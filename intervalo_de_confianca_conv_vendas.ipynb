{
  "cells": [
    {
      "cell_type": "markdown",
      "source": [
        "## **Intervalo de confiança de conversão de vendas**\n",
        "\n",
        "Uma equipe de vendas de 50 vendedores foi avaliada em relação à sua taxa de fechamento de contratos (número de vendas realizadas dividido pelo número de leads atendidos). A taxa média de fechamento foi de 20%, com um desvio padrão de 5%.\n",
        "\n",
        "Calcule o **intervalo de confiança de 95%** para a taxa média de fechamento da equipe.\n",
        "\n",
        "\n",
        "**Dados fornecidos:**\n",
        "- Média = 0,20 (ou 20%).\n",
        "- Desvio padrão (𝑠) = 0,05 (ou 5%).\n",
        "- Tamanho da amostra (𝑛) = 50.\n",
        "- Nível de confiança = 95% (𝑧 = 1,96).\n",
        "\n",
        "\n",
        "**Formula do intervalo de confiança**\n",
        "\n",
        "![image.png](data:image/png;base64,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)"
      ],
      "metadata": {
        "id": "Gov3wu-T-jQn"
      }
    },
    {
      "cell_type": "code",
      "source": [
        "import math"
      ],
      "metadata": {
        "id": "sDh5ngnPCU2Y"
      },
      "execution_count": null,
      "outputs": []
    },
    {
      "cell_type": "code",
      "source": [
        "# Calculo de errao padrap\n",
        "ep = 0.5 / math.sqrt(50)\n",
        "print(\"Erro padrão\", ep)\n",
        "\n",
        "# Limite superior e inferior para 95% de confiança\n",
        "limite_superior = (0.20 + (1.960 * ep)) * 100\n",
        "limite_inferior = (0.20 - (1.960 * ep)) * 100\n",
        "\n",
        "print(\"-------------------------------\")\n",
        "\n",
        "print(\"Limite superior\",limite_superior)\n",
        "print(\"Limite inferior\",limite_inferior)\n",
        "\n",
        "print(\"-------------------------------\")\n",
        "print(f\"Com 95% de confiança a conversão média da equipe de vendas está entre {'{:.2f}%'.format(limite_inferior)} e {'{:.2f}%'.format(limite_superior)}\")\n",
        "print(\"-------------------------------\")"
      ],
      "metadata": {
        "id": "baIJKcpR-4Qj",
        "outputId": "7af8d8c8-5548-4835-8688-b60e6b72a732",
        "colab": {
          "base_uri": "https://localhost:8080/"
        }
      },
      "execution_count": null,
      "outputs": [
        {
          "output_type": "stream",
          "name": "stdout",
          "text": [
            "Erro padrão 0.07071067811865475\n",
            "-------------------------------\n",
            "Limite superior 33.85929291125633\n",
            "Limite inferior 6.140707088743669\n",
            "-------------------------------\n",
            "Com 95% de confiança a conversão média da equipe de vendas está entre 6.14% e 33.86%\n",
            "-------------------------------\n"
          ]
        }
      ]
    }
  ],
  "metadata": {
    "colab": {
      "provenance": []
    },
    "kernelspec": {
      "display_name": "Python 3",
      "name": "python3"
    }
  },
  "nbformat": 4,
  "nbformat_minor": 0
}